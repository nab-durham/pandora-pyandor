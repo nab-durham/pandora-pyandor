{
 "cells": [
  {
   "cell_type": "code",
   "execution_count": 16,
   "id": "a0344d07",
   "metadata": {},
   "outputs": [],
   "source": [
    "from importlib import reload\n",
    "if 'andor' in dir():\n",
    "    reload(andor)\n",
    "else:\n",
    "    import andor\n",
    "#\n",
    "from andorCodes import AndorCodes\n",
    "from ipywidgets import widgets\n",
    "from IPython.display import clear_output\n",
    "import time\n",
    "import asyncio\n",
    "import matplotlib\n",
    "import numpy\n",
    "matplotlib.use('agg')\n",
    "from matplotlib import pyplot"
   ]
  },
  {
   "cell_type": "code",
   "execution_count": 11,
   "id": "efdf9b15",
   "metadata": {},
   "outputs": [
    {
     "ename": "RuntimeError",
     "evalue": "Cannot initialise SDK, already initialised elsewhere?",
     "output_type": "error",
     "traceback": [
      "\u001b[0;31m---------------------------------------------------------------------------\u001b[0m",
      "\u001b[0;31mAssertionError\u001b[0m                            Traceback (most recent call last)",
      "\u001b[0;32m<ipython-input-11-94d8daa62a5a>\u001b[0m in \u001b[0;36m<module>\u001b[0;34m\u001b[0m\n\u001b[1;32m     13\u001b[0m \u001b[0;32mtry\u001b[0m\u001b[0;34m:\u001b[0m\u001b[0;34m\u001b[0m\u001b[0;34m\u001b[0m\u001b[0m\n\u001b[0;32m---> 14\u001b[0;31m     \u001b[0mandor\u001b[0m\u001b[0;34m.\u001b[0m\u001b[0minitialize_sdk\u001b[0m\u001b[0;34m(\u001b[0m\u001b[0;34m)\u001b[0m\u001b[0;34m\u001b[0m\u001b[0;34m\u001b[0m\u001b[0m\n\u001b[0m\u001b[1;32m     15\u001b[0m \u001b[0;32mexcept\u001b[0m\u001b[0;34m:\u001b[0m\u001b[0;34m\u001b[0m\u001b[0;34m\u001b[0m\u001b[0m\n",
      "\u001b[0;32m~/andor/jupyter/andor.py\u001b[0m in \u001b[0;36mwrapper\u001b[0;34m(*arg)\u001b[0m\n\u001b[1;32m     37\u001b[0m             \u001b[0;32mraise\u001b[0m \u001b[0mRuntimeError\u001b[0m\u001b[0;34m(\u001b[0m\u001b[0;34m\"shared library not loaded\"\u001b[0m\u001b[0;34m)\u001b[0m\u001b[0;34m\u001b[0m\u001b[0;34m\u001b[0m\u001b[0m\n\u001b[0;32m---> 38\u001b[0;31m         \u001b[0mres\u001b[0m \u001b[0;34m=\u001b[0m \u001b[0mfunc\u001b[0m\u001b[0;34m(\u001b[0m\u001b[0;34m*\u001b[0m\u001b[0marg\u001b[0m\u001b[0;34m)\u001b[0m\u001b[0;34m\u001b[0m\u001b[0;34m\u001b[0m\u001b[0m\n\u001b[0m\u001b[1;32m     39\u001b[0m         \u001b[0;32mreturn\u001b[0m \u001b[0mres\u001b[0m\u001b[0;34m\u001b[0m\u001b[0;34m\u001b[0m\u001b[0m\n",
      "\u001b[0;32m~/andor/jupyter/andor.py\u001b[0m in \u001b[0;36minitialize_sdk\u001b[0;34m(dir_name)\u001b[0m\n\u001b[1;32m     80\u001b[0m     \u001b[0;32mglobal\u001b[0m \u001b[0minitialized\u001b[0m\u001b[0;34m\u001b[0m\u001b[0;34m\u001b[0m\u001b[0m\n\u001b[0;32m---> 81\u001b[0;31m     \u001b[0mcheckretcode\u001b[0m\u001b[0;34m(\u001b[0m\u001b[0mandorsdk\u001b[0m\u001b[0;34m.\u001b[0m\u001b[0mInitialize\u001b[0m\u001b[0;34m)\u001b[0m\u001b[0;34m(\u001b[0m\u001b[0mbytes\u001b[0m\u001b[0;34m(\u001b[0m\u001b[0mdir_name\u001b[0m\u001b[0;34m,\u001b[0m\u001b[0;34m'ascii'\u001b[0m\u001b[0;34m)\u001b[0m\u001b[0;34m)\u001b[0m \u001b[0;31m# obviously Oxford educated...hoho\u001b[0m\u001b[0;34m\u001b[0m\u001b[0;34m\u001b[0m\u001b[0m\n\u001b[0m\u001b[1;32m     82\u001b[0m     \u001b[0minitialized\u001b[0m\u001b[0;34m=\u001b[0m\u001b[0;32mTrue\u001b[0m\u001b[0;34m\u001b[0m\u001b[0;34m\u001b[0m\u001b[0m\n",
      "\u001b[0;32m~/andor/jupyter/andor.py\u001b[0m in \u001b[0;36mwrapper\u001b[0;34m(*arg)\u001b[0m\n\u001b[1;32m     64\u001b[0m         \u001b[0mlast_ret_code\u001b[0m\u001b[0;34m=\u001b[0m\u001b[0mfunc\u001b[0m\u001b[0;34m(\u001b[0m\u001b[0;34m*\u001b[0m\u001b[0marg\u001b[0m\u001b[0;34m)\u001b[0m\u001b[0;34m\u001b[0m\u001b[0;34m\u001b[0m\u001b[0m\n\u001b[0;32m---> 65\u001b[0;31m         \u001b[0;32massert\u001b[0m \u001b[0mlast_ret_code\u001b[0m\u001b[0;34m==\u001b[0m\u001b[0mAndorCodes\u001b[0m\u001b[0;34m.\u001b[0m\u001b[0mDRV_SUCCESS\u001b[0m\u001b[0;34m,\u001b[0m \u001b[0;34mf\"Got {last_ret_code}/{AndorCodes.values[last_ret_code]}\"\u001b[0m\u001b[0;34m\u001b[0m\u001b[0;34m\u001b[0m\u001b[0m\n\u001b[0m\u001b[1;32m     66\u001b[0m         \u001b[0;32mreturn\u001b[0m \u001b[0;32mTrue\u001b[0m\u001b[0;34m\u001b[0m\u001b[0;34m\u001b[0m\u001b[0m\n",
      "\u001b[0;31mAssertionError\u001b[0m: Got 20003/DRV_VXDNOTINSTALLED",
      "\nDuring handling of the above exception, another exception occurred:\n",
      "\u001b[0;31mRuntimeError\u001b[0m                              Traceback (most recent call last)",
      "\u001b[0;32m<ipython-input-11-94d8daa62a5a>\u001b[0m in \u001b[0;36m<module>\u001b[0;34m\u001b[0m\n\u001b[1;32m     14\u001b[0m     \u001b[0mandor\u001b[0m\u001b[0;34m.\u001b[0m\u001b[0minitialize_sdk\u001b[0m\u001b[0;34m(\u001b[0m\u001b[0;34m)\u001b[0m\u001b[0;34m\u001b[0m\u001b[0;34m\u001b[0m\u001b[0m\n\u001b[1;32m     15\u001b[0m \u001b[0;32mexcept\u001b[0m\u001b[0;34m:\u001b[0m\u001b[0;34m\u001b[0m\u001b[0;34m\u001b[0m\u001b[0m\n\u001b[0;32m---> 16\u001b[0;31m     \u001b[0;32mraise\u001b[0m \u001b[0mRuntimeError\u001b[0m\u001b[0;34m(\u001b[0m\u001b[0;34m\"Cannot initialise SDK, already initialised elsewhere?\"\u001b[0m\u001b[0;34m)\u001b[0m\u001b[0;34m\u001b[0m\u001b[0;34m\u001b[0m\u001b[0m\n\u001b[0m\u001b[1;32m     17\u001b[0m \u001b[0;34m\u001b[0m\u001b[0m\n\u001b[1;32m     18\u001b[0m \u001b[0mprint\u001b[0m\u001b[0;34m(\u001b[0m\u001b[0;34m\"Initialised SDK\"\u001b[0m\u001b[0;34m)\u001b[0m\u001b[0;34m\u001b[0m\u001b[0;34m\u001b[0m\u001b[0m\n",
      "\u001b[0;31mRuntimeError\u001b[0m: Cannot initialise SDK, already initialised elsewhere?"
     ]
    }
   ],
   "source": [
    "## Initialise the SDK and the asyncio events\n",
    "#\n",
    "\n",
    "readout=asyncio.Event() # when set, the readout can commence\n",
    "readout.clear()\n",
    "abort=asyncio.Event() # when set, the readout can stop\n",
    "abort.clear()\n",
    "\n",
    "try:\n",
    "    andor.initialize_ctypes()\n",
    "except:\n",
    "    raise RuntimeError(\"Cannot load shared libray, not installed?\")\n",
    "try:\n",
    "    andor.initialize_sdk()\n",
    "except:\n",
    "    raise RuntimeError(\"Cannot initialise SDK, already initialised elsewhere?\")\n",
    "\n",
    "print(\"Initialised SDK\")\n",
    "andor.choose_camera(0) # first\n",
    "print(\"Set current camera to be #0 (first)\")\n",
    "ccd_height, ccd_width=andor.detector_size()\n",
    "print(f\"Size of detector is {ccd_height}x{ccd_width}\")\n",
    "\n",
    "#executor=concurrent.futures.ThreadPoolExecutor(max_workers=3)"
   ]
  },
  {
   "cell_type": "code",
   "execution_count": 20,
   "id": "9b752708",
   "metadata": {},
   "outputs": [
    {
     "ename": "RuntimeError",
     "evalue": "SDK not initialized",
     "output_type": "error",
     "traceback": [
      "\u001b[0;31m---------------------------------------------------------------------------\u001b[0m",
      "\u001b[0;31mRuntimeError\u001b[0m                              Traceback (most recent call last)",
      "\u001b[0;32m<ipython-input-20-3e923c03d646>\u001b[0m in \u001b[0;36m<module>\u001b[0;34m\u001b[0m\n\u001b[1;32m      4\u001b[0m \u001b[0mregion_lrbt\u001b[0m\u001b[0;34m=\u001b[0m\u001b[0;36m1\u001b[0m\u001b[0;34m,\u001b[0m\u001b[0;36m1024\u001b[0m\u001b[0;34m,\u001b[0m\u001b[0;36m1\u001b[0m\u001b[0;34m,\u001b[0m\u001b[0;36m1024\u001b[0m\u001b[0;31m#100,200,100,200\u001b[0m\u001b[0;34m\u001b[0m\u001b[0;34m\u001b[0m\u001b[0m\n\u001b[1;32m      5\u001b[0m \u001b[0mregion\u001b[0m\u001b[0;34m=\u001b[0m\u001b[0mnumpy\u001b[0m\u001b[0;34m.\u001b[0m\u001b[0mempty\u001b[0m\u001b[0;34m(\u001b[0m\u001b[0;34m[\u001b[0m\u001b[0;36m1024\u001b[0m\u001b[0;34m,\u001b[0m\u001b[0;36m1024\u001b[0m\u001b[0;34m]\u001b[0m\u001b[0;34m)\u001b[0m\u001b[0;34m\u001b[0m\u001b[0;34m\u001b[0m\u001b[0m\n\u001b[0;32m----> 6\u001b[0;31m \u001b[0mregion\u001b[0m\u001b[0;34m=\u001b[0m\u001b[0mandor\u001b[0m\u001b[0;34m.\u001b[0m\u001b[0mRegion\u001b[0m\u001b[0;34m(\u001b[0m\u001b[0mhbinning\u001b[0m\u001b[0;34m,\u001b[0m\u001b[0mvbinning\u001b[0m\u001b[0;34m,\u001b[0m\u001b[0mregion_lrbt\u001b[0m\u001b[0;34m[\u001b[0m\u001b[0;36m0\u001b[0m\u001b[0;34m]\u001b[0m\u001b[0;34m,\u001b[0m\u001b[0mregion_lrbt\u001b[0m\u001b[0;34m[\u001b[0m\u001b[0;36m1\u001b[0m\u001b[0;34m]\u001b[0m\u001b[0;34m,\u001b[0m\u001b[0mregion_lrbt\u001b[0m\u001b[0;34m[\u001b[0m\u001b[0;36m2\u001b[0m\u001b[0;34m]\u001b[0m\u001b[0;34m,\u001b[0m\u001b[0mregion_lrbt\u001b[0m\u001b[0;34m[\u001b[0m\u001b[0;36m3\u001b[0m\u001b[0;34m]\u001b[0m\u001b[0;34m)\u001b[0m\u001b[0;34m\u001b[0m\u001b[0;34m\u001b[0m\u001b[0m\n\u001b[0m\u001b[1;32m      7\u001b[0m \u001b[0mexposure_time\u001b[0m\u001b[0;34m=\u001b[0m\u001b[0;36m0.05\u001b[0m \u001b[0;31m# [s]\u001b[0m\u001b[0;34m\u001b[0m\u001b[0;34m\u001b[0m\u001b[0m\n\u001b[1;32m      8\u001b[0m \u001b[0mttl_high\u001b[0m\u001b[0;34m=\u001b[0m\u001b[0;32mTrue\u001b[0m\u001b[0;34m\u001b[0m\u001b[0;34m\u001b[0m\u001b[0m\n",
      "\u001b[0;32m~/andor/jupyter/andor.py\u001b[0m in \u001b[0;36m__init__\u001b[0;34m(self, horiz_binning, vert_binning, col_start, col_end, row_start, row_end)\u001b[0m\n\u001b[1;32m     15\u001b[0m \u001b[0;32mclass\u001b[0m \u001b[0mRegion\u001b[0m\u001b[0;34m:\u001b[0m\u001b[0;34m\u001b[0m\u001b[0;34m\u001b[0m\u001b[0m\n\u001b[1;32m     16\u001b[0m     \u001b[0;32mdef\u001b[0m \u001b[0m__init__\u001b[0m\u001b[0;34m(\u001b[0m\u001b[0mself\u001b[0m\u001b[0;34m,\u001b[0m\u001b[0mhoriz_binning\u001b[0m\u001b[0;34m,\u001b[0m\u001b[0mvert_binning\u001b[0m\u001b[0;34m,\u001b[0m\u001b[0mcol_start\u001b[0m\u001b[0;34m,\u001b[0m\u001b[0mcol_end\u001b[0m\u001b[0;34m,\u001b[0m\u001b[0mrow_start\u001b[0m\u001b[0;34m,\u001b[0m\u001b[0mrow_end\u001b[0m\u001b[0;34m)\u001b[0m\u001b[0;34m:\u001b[0m\u001b[0;34m\u001b[0m\u001b[0;34m\u001b[0m\u001b[0m\n\u001b[0;32m---> 17\u001b[0;31m         \u001b[0mself\u001b[0m\u001b[0;34m.\u001b[0m\u001b[0mnew\u001b[0m\u001b[0;34m(\u001b[0m\u001b[0mhoriz_binning\u001b[0m\u001b[0;34m,\u001b[0m\u001b[0mvert_binning\u001b[0m\u001b[0;34m,\u001b[0m\u001b[0mcol_start\u001b[0m\u001b[0;34m,\u001b[0m\u001b[0mcol_end\u001b[0m\u001b[0;34m,\u001b[0m\u001b[0mrow_start\u001b[0m\u001b[0;34m,\u001b[0m\u001b[0mrow_end\u001b[0m\u001b[0;34m)\u001b[0m\u001b[0;34m\u001b[0m\u001b[0;34m\u001b[0m\u001b[0m\n\u001b[0m\u001b[1;32m     18\u001b[0m     \u001b[0;32mdef\u001b[0m \u001b[0mnew\u001b[0m\u001b[0;34m(\u001b[0m\u001b[0mself\u001b[0m\u001b[0;34m,\u001b[0m\u001b[0mhoriz_binning\u001b[0m\u001b[0;34m,\u001b[0m\u001b[0mvert_binning\u001b[0m\u001b[0;34m,\u001b[0m\u001b[0mcol_start\u001b[0m\u001b[0;34m,\u001b[0m\u001b[0mcol_end\u001b[0m\u001b[0;34m,\u001b[0m\u001b[0mrow_start\u001b[0m\u001b[0;34m,\u001b[0m\u001b[0mrow_end\u001b[0m\u001b[0;34m)\u001b[0m\u001b[0;34m:\u001b[0m\u001b[0;34m\u001b[0m\u001b[0;34m\u001b[0m\u001b[0m\n\u001b[1;32m     19\u001b[0m         \u001b[0mself\u001b[0m\u001b[0;34m.\u001b[0m\u001b[0mbinning\u001b[0m\u001b[0;34m=\u001b[0m\u001b[0;34m[\u001b[0m\u001b[0mhoriz_binning\u001b[0m\u001b[0;34m,\u001b[0m\u001b[0mvert_binning\u001b[0m\u001b[0;34m]\u001b[0m\u001b[0;34m\u001b[0m\u001b[0;34m\u001b[0m\u001b[0m\n",
      "\u001b[0;32m~/andor/jupyter/andor.py\u001b[0m in \u001b[0;36mnew\u001b[0;34m(self, horiz_binning, vert_binning, col_start, col_end, row_start, row_end)\u001b[0m\n\u001b[1;32m     21\u001b[0m         \u001b[0mself\u001b[0m\u001b[0;34m.\u001b[0m\u001b[0mrows\u001b[0m\u001b[0;34m=\u001b[0m\u001b[0;34m[\u001b[0m\u001b[0mrow_start\u001b[0m\u001b[0;34m,\u001b[0m\u001b[0mrow_end\u001b[0m\u001b[0;34m]\u001b[0m\u001b[0;34m\u001b[0m\u001b[0;34m\u001b[0m\u001b[0m\n\u001b[1;32m     22\u001b[0m         \u001b[0mself\u001b[0m\u001b[0;34m.\u001b[0m\u001b[0mshape\u001b[0m\u001b[0;34m=\u001b[0m\u001b[0;34m(\u001b[0m\u001b[0mself\u001b[0m\u001b[0;34m.\u001b[0m\u001b[0mrows\u001b[0m\u001b[0;34m[\u001b[0m\u001b[0;36m1\u001b[0m\u001b[0;34m]\u001b[0m\u001b[0;34m-\u001b[0m\u001b[0mself\u001b[0m\u001b[0;34m.\u001b[0m\u001b[0mrows\u001b[0m\u001b[0;34m[\u001b[0m\u001b[0;36m0\u001b[0m\u001b[0;34m]\u001b[0m\u001b[0;34m+\u001b[0m\u001b[0;36m1\u001b[0m\u001b[0;34m,\u001b[0m\u001b[0mself\u001b[0m\u001b[0;34m.\u001b[0m\u001b[0mcolumns\u001b[0m\u001b[0;34m[\u001b[0m\u001b[0;36m1\u001b[0m\u001b[0;34m]\u001b[0m\u001b[0;34m-\u001b[0m\u001b[0mself\u001b[0m\u001b[0;34m.\u001b[0m\u001b[0mcolumns\u001b[0m\u001b[0;34m[\u001b[0m\u001b[0;36m0\u001b[0m\u001b[0;34m]\u001b[0m\u001b[0;34m+\u001b[0m\u001b[0;36m1\u001b[0m\u001b[0;34m)\u001b[0m\u001b[0;34m\u001b[0m\u001b[0;34m\u001b[0m\u001b[0m\n\u001b[0;32m---> 23\u001b[0;31m         \u001b[0mself\u001b[0m\u001b[0;34m.\u001b[0m\u001b[0m_checkregion\u001b[0m\u001b[0;34m(\u001b[0m\u001b[0;34m)\u001b[0m\u001b[0;34m\u001b[0m\u001b[0;34m\u001b[0m\u001b[0m\n\u001b[0m\u001b[1;32m     24\u001b[0m         \u001b[0mself\u001b[0m\u001b[0;34m.\u001b[0m\u001b[0mdatasize\u001b[0m\u001b[0;34m=\u001b[0m\u001b[0mself\u001b[0m\u001b[0;34m.\u001b[0m\u001b[0m_datasize\u001b[0m\u001b[0;34m(\u001b[0m\u001b[0;34m)\u001b[0m\u001b[0;34m\u001b[0m\u001b[0;34m\u001b[0m\u001b[0m\n\u001b[1;32m     25\u001b[0m     \u001b[0;32mdef\u001b[0m \u001b[0m_datasize\u001b[0m\u001b[0;34m(\u001b[0m\u001b[0mself\u001b[0m\u001b[0;34m)\u001b[0m\u001b[0;34m:\u001b[0m\u001b[0;34m\u001b[0m\u001b[0;34m\u001b[0m\u001b[0m\n",
      "\u001b[0;32m~/andor/jupyter/andor.py\u001b[0m in \u001b[0;36m_checkregion\u001b[0;34m(self)\u001b[0m\n\u001b[1;32m     26\u001b[0m         \u001b[0;32mreturn\u001b[0m\u001b[0;34m(\u001b[0m\u001b[0mself\u001b[0m\u001b[0;34m.\u001b[0m\u001b[0mshape\u001b[0m\u001b[0;34m[\u001b[0m\u001b[0;36m0\u001b[0m\u001b[0;34m]\u001b[0m\u001b[0;34m*\u001b[0m\u001b[0mself\u001b[0m\u001b[0;34m.\u001b[0m\u001b[0mshape\u001b[0m\u001b[0;34m[\u001b[0m\u001b[0;36m1\u001b[0m\u001b[0;34m]\u001b[0m\u001b[0;34m/\u001b[0m\u001b[0;34m(\u001b[0m\u001b[0mself\u001b[0m\u001b[0;34m.\u001b[0m\u001b[0mbinning\u001b[0m\u001b[0;34m[\u001b[0m\u001b[0;36m0\u001b[0m\u001b[0;34m]\u001b[0m\u001b[0;34m*\u001b[0m\u001b[0mself\u001b[0m\u001b[0;34m.\u001b[0m\u001b[0mbinning\u001b[0m\u001b[0;34m[\u001b[0m\u001b[0;36m1\u001b[0m\u001b[0;34m]\u001b[0m\u001b[0;34m)\u001b[0m\u001b[0;34m)\u001b[0m\u001b[0;34m\u001b[0m\u001b[0;34m\u001b[0m\u001b[0m\n\u001b[1;32m     27\u001b[0m     \u001b[0;32mdef\u001b[0m \u001b[0m_checkregion\u001b[0m\u001b[0;34m(\u001b[0m\u001b[0mself\u001b[0m\u001b[0;34m)\u001b[0m\u001b[0;34m:\u001b[0m\u001b[0;34m\u001b[0m\u001b[0;34m\u001b[0m\u001b[0m\n\u001b[0;32m---> 28\u001b[0;31m         \u001b[0mself\u001b[0m\u001b[0;34m.\u001b[0m\u001b[0mccdhw\u001b[0m\u001b[0;34m=\u001b[0m\u001b[0mdetector_size\u001b[0m\u001b[0;34m(\u001b[0m\u001b[0;34m)\u001b[0m\u001b[0;34m\u001b[0m\u001b[0;34m\u001b[0m\u001b[0m\n\u001b[0m\u001b[1;32m     29\u001b[0m         \u001b[0;32massert\u001b[0m \u001b[0mself\u001b[0m\u001b[0;34m.\u001b[0m\u001b[0mrows\u001b[0m\u001b[0;34m[\u001b[0m\u001b[0;36m0\u001b[0m\u001b[0;34m]\u001b[0m\u001b[0;34m>=\u001b[0m\u001b[0;36m1\u001b[0m \u001b[0;32mand\u001b[0m \u001b[0mself\u001b[0m\u001b[0;34m.\u001b[0m\u001b[0mrows\u001b[0m\u001b[0;34m[\u001b[0m\u001b[0;36m1\u001b[0m\u001b[0;34m]\u001b[0m\u001b[0;34m<=\u001b[0m\u001b[0mself\u001b[0m\u001b[0;34m.\u001b[0m\u001b[0mccdhw\u001b[0m\u001b[0;34m[\u001b[0m\u001b[0;36m0\u001b[0m\u001b[0;34m]\u001b[0m\u001b[0;34m\u001b[0m\u001b[0;34m\u001b[0m\u001b[0m\n\u001b[1;32m     30\u001b[0m         \u001b[0;32massert\u001b[0m \u001b[0mself\u001b[0m\u001b[0;34m.\u001b[0m\u001b[0mcolumns\u001b[0m\u001b[0;34m[\u001b[0m\u001b[0;36m0\u001b[0m\u001b[0;34m]\u001b[0m\u001b[0;34m>=\u001b[0m\u001b[0;36m1\u001b[0m \u001b[0;32mand\u001b[0m \u001b[0mself\u001b[0m\u001b[0;34m.\u001b[0m\u001b[0mcolumns\u001b[0m\u001b[0;34m[\u001b[0m\u001b[0;36m1\u001b[0m\u001b[0;34m]\u001b[0m\u001b[0;34m<=\u001b[0m\u001b[0mself\u001b[0m\u001b[0;34m.\u001b[0m\u001b[0mccdhw\u001b[0m\u001b[0;34m[\u001b[0m\u001b[0;36m1\u001b[0m\u001b[0;34m]\u001b[0m\u001b[0;34m\u001b[0m\u001b[0;34m\u001b[0m\u001b[0m\n",
      "\u001b[0;32m~/andor/jupyter/andor.py\u001b[0m in \u001b[0;36mwrapper\u001b[0;34m(*arg)\u001b[0m\n\u001b[1;32m     43\u001b[0m     \u001b[0;32mdef\u001b[0m \u001b[0mwrapper\u001b[0m\u001b[0;34m(\u001b[0m\u001b[0;34m*\u001b[0m\u001b[0marg\u001b[0m\u001b[0;34m)\u001b[0m\u001b[0;34m:\u001b[0m\u001b[0;34m\u001b[0m\u001b[0;34m\u001b[0m\u001b[0m\n\u001b[1;32m     44\u001b[0m         \u001b[0;32mif\u001b[0m \u001b[0;32mnot\u001b[0m \u001b[0minitialized\u001b[0m\u001b[0;34m:\u001b[0m\u001b[0;34m\u001b[0m\u001b[0;34m\u001b[0m\u001b[0m\n\u001b[0;32m---> 45\u001b[0;31m             \u001b[0;32mraise\u001b[0m \u001b[0mRuntimeError\u001b[0m\u001b[0;34m(\u001b[0m\u001b[0;34m\"SDK not initialized\"\u001b[0m\u001b[0;34m)\u001b[0m\u001b[0;34m\u001b[0m\u001b[0;34m\u001b[0m\u001b[0m\n\u001b[0m\u001b[1;32m     46\u001b[0m         \u001b[0mres\u001b[0m \u001b[0;34m=\u001b[0m \u001b[0mfunc\u001b[0m\u001b[0;34m(\u001b[0m\u001b[0;34m*\u001b[0m\u001b[0marg\u001b[0m\u001b[0;34m)\u001b[0m\u001b[0;34m\u001b[0m\u001b[0;34m\u001b[0m\u001b[0m\n\u001b[1;32m     47\u001b[0m         \u001b[0;32mreturn\u001b[0m \u001b[0mres\u001b[0m\u001b[0;34m\u001b[0m\u001b[0;34m\u001b[0m\u001b[0m\n",
      "\u001b[0;31mRuntimeError\u001b[0m: SDK not initialized"
     ]
    }
   ],
   "source": [
    "## detector configuration parameters\n",
    "#\n",
    "hbinning,vbinning=(1,1) # horizontal then vertical\n",
    "region_lrbt=1,1024,1,1024#100,200,100,200\n",
    "region=numpy.empty([1024,1024])\n",
    "region=andor.Region(hbinning,vbinning,region_lrbt[0],region_lrbt[1],region_lrbt[2],region_lrbt[3])\n",
    "exposure_time=0.05 # [s]\n",
    "ttl_high=True\n",
    "shutter_mode='Open'\n",
    "open_time,close_time=0,0\n",
    "trigger_mode='Internal'\n",
    "acq_mode='Continuous'\n",
    "read_mode='Image'"
   ]
  },
  {
   "cell_type": "code",
   "execution_count": 3,
   "id": "85f2d778",
   "metadata": {},
   "outputs": [
    {
     "ename": "NameError",
     "evalue": "name 'region' is not defined",
     "output_type": "error",
     "traceback": [
      "\u001b[0;31m---------------------------------------------------------------------------\u001b[0m",
      "\u001b[0;31mNameError\u001b[0m                                 Traceback (most recent call last)",
      "\u001b[0;32m<ipython-input-3-0419c500e4aa>\u001b[0m in \u001b[0;36m<module>\u001b[0;34m\u001b[0m\n\u001b[0;32m----> 1\u001b[0;31m \u001b[0mandor\u001b[0m\u001b[0;34m.\u001b[0m\u001b[0mset_region\u001b[0m\u001b[0;34m(\u001b[0m\u001b[0mregion\u001b[0m\u001b[0;34m)\u001b[0m\u001b[0;34m\u001b[0m\u001b[0;34m\u001b[0m\u001b[0m\n\u001b[0m\u001b[1;32m      2\u001b[0m \u001b[0mandor\u001b[0m\u001b[0;34m.\u001b[0m\u001b[0mset_exposure\u001b[0m\u001b[0;34m(\u001b[0m\u001b[0mexposure_time\u001b[0m\u001b[0;34m)\u001b[0m \u001b[0;34m;\u001b[0m \u001b[0mprint\u001b[0m\u001b[0;34m(\u001b[0m\u001b[0;34mf\"Asked for exposure time is {1e3*exposure_time:.1f}ms\"\u001b[0m\u001b[0;34m)\u001b[0m\u001b[0;34m\u001b[0m\u001b[0;34m\u001b[0m\u001b[0m\n\u001b[1;32m      3\u001b[0m \u001b[0mandor\u001b[0m\u001b[0;34m.\u001b[0m\u001b[0mset_shutter\u001b[0m\u001b[0;34m(\u001b[0m\u001b[0mshutter_mode\u001b[0m\u001b[0;34m,\u001b[0m\u001b[0mttl_high\u001b[0m\u001b[0;34m,\u001b[0m\u001b[0mopen_time\u001b[0m\u001b[0;34m,\u001b[0m\u001b[0mclose_time\u001b[0m\u001b[0;34m)\u001b[0m\u001b[0;34m\u001b[0m\u001b[0;34m\u001b[0m\u001b[0m\n\u001b[1;32m      4\u001b[0m \u001b[0mandor\u001b[0m\u001b[0;34m.\u001b[0m\u001b[0mset_trigger\u001b[0m\u001b[0;34m(\u001b[0m\u001b[0mtrigger_mode\u001b[0m\u001b[0;34m)\u001b[0m \u001b[0;34m;\u001b[0m \u001b[0mprint\u001b[0m\u001b[0;34m(\u001b[0m\u001b[0;34mf\"Tigger mode is '{trigger_mode}'\"\u001b[0m\u001b[0;34m)\u001b[0m\u001b[0;34m\u001b[0m\u001b[0;34m\u001b[0m\u001b[0m\n\u001b[1;32m      5\u001b[0m \u001b[0;31m# No need to do this, the default it seems\u001b[0m\u001b[0;34m\u001b[0m\u001b[0;34m\u001b[0m\u001b[0;34m\u001b[0m\u001b[0m\n",
      "\u001b[0;31mNameError\u001b[0m: name 'region' is not defined"
     ]
    }
   ],
   "source": [
    "andor.set_region(region)\n",
    "andor.set_exposure(exposure_time) ; print(f\"Asked for exposure time is {1e3*exposure_time:.1f}ms\")\n",
    "andor.set_shutter(shutter_mode,ttl_high,open_time,close_time)\n",
    "andor.set_trigger(trigger_mode) ; print(f\"Tigger mode is '{trigger_mode}'\")\n",
    "# No need to do this, the default it seems\n",
    "andor.set_acquisition(acq_mode) ; print(f\"Acquisition mode is '{acq_mode}'\")\n",
    "andor.set_read(read_mode) ; print(f\"Read mode is '{read_mode}'\")\n",
    "print(f\"Binning HxV is {hbinning}x{vbinning}\")\n",
    "print(\"ROI is (L,R,B,T)={0[0]}x{0[1]},{0[2]},{0[3]}\".format(region_lrbt))\n",
    "times=andor.get_timing()\n",
    "print(f\"Therefore, exposure time is {1e3*times[0]:.1f}ms and acquisition time is {1e3*times[1]:.1f}ms\")\n",
    "img_capacity=andor.get_size_of_circular_buffer()\n",
    "print(f\"Expect {times[1]*img_capacity:.2f}s before circular buffer is full\")\n",
    "\n",
    "print(f\"Shutter {'is' if andor.get_shutter_info() else 'is not'} available\")\n",
    "print(f\"Shutter set to TTL o/p {'high' if ttl_high else 'low'}\")\n",
    "print(f\"Shutter mode is '{shutter_mode}'\")\n",
    "print(f\"Shutter open/close time is {open_time}/{close_time}ms\")"
   ]
  },
  {
   "cell_type": "code",
   "execution_count": 4,
   "id": "cc1789e7",
   "metadata": {},
   "outputs": [],
   "source": [
    "def abort_and_clear():\n",
    "    try:\n",
    "        andor.abort_acquisition()\n",
    "    except:\n",
    "        print(\"No acquisition to abort\")\n",
    "    andor.free_internal_memory()\n",
    "    return\n",
    "\n",
    "async def wait_for_ready():\n",
    "    while andor.get_status()==AndorCodes.DRV_ACQUIRING:\n",
    "        await asyncio.sleep(0.2)"
   ]
  },
  {
   "cell_type": "code",
   "execution_count": 22,
   "id": "252b1be4",
   "metadata": {},
   "outputs": [],
   "source": [
    "statusOpW=widgets.Output(\n",
    "        disabled=False,\n",
    "        layout=widgets.Layout(\n",
    "            border='solid 1px blue',\n",
    "            width='50%',height='400px')\n",
    "    )\n",
    "imageOpW=widgets.Output(\n",
    "        disabled=False,\n",
    "        layout=widgets.Layout(\n",
    "            border='solid 1px red',\n",
    "            margin='0px 10px 10px 0px',\n",
    "            padding='5px 5px 5px 5px',\n",
    "            width='50%',height='400px')\n",
    "    )\n",
    "\n",
    "startW,stopW,abortW=[\n",
    "        widgets.Button(description=tLabel,disabled=False,button_style=\"\")\n",
    "        for tLabel in (\"Start\",\"Stop\",\"Abort\")\n",
    "    ]\n",
    "buttonsHBW=widgets.HBox(\n",
    "        [startW,stopW,abortW],\n",
    "        layout=widgets.Layout(\n",
    "            width='100%',\n",
    "            border='solid 1px gray',\n",
    "            margin='0px 10px 10px 0px',\n",
    "            padding='5px 5px 5px 5px',)\n",
    "    )\n",
    "opHBW=widgets.HBox([imageOpW,statusOpW],layout=widgets.Layout(width='100%'))\n",
    "panelVBW=widgets.VBox([buttonsHBW,opHBW])\n",
    "\n",
    "@statusOpW.capture(clear_output=True)\n",
    "def startReadout(button):\n",
    "    andor.start_acquisition()\n",
    "    readout.set()\n",
    "@statusOpW.capture(clear_output=True)\n",
    "def stopReadout(button):\n",
    "    abort_and_clear()\n",
    "    readout.clear()\n",
    "@statusOpW.capture(clear_output=True)\n",
    "def abortReadout(button):\n",
    "    abort_and_clear()\n",
    "    abort.set()\n",
    "\n",
    "startW.on_click(startReadout)\n",
    "stopW.on_click(stopReadout)\n",
    "abortW.on_click(abortReadout)"
   ]
  },
  {
   "cell_type": "code",
   "execution_count": 23,
   "id": "e9447f4d",
   "metadata": {
    "scrolled": false
   },
   "outputs": [
    {
     "data": {
      "application/vnd.jupyter.widget-view+json": {
       "model_id": "3d5cd2430a11490c960a4788924278f6",
       "version_major": 2,
       "version_minor": 0
      },
      "text/plain": [
       "VBox(children=(HBox(children=(Button(description='Start', style=ButtonStyle()), Button(description='Stop', sty…"
      ]
     },
     "metadata": {},
     "output_type": "display_data"
    }
   ],
   "source": [
    "async def produce(queue):\n",
    "    start_time=time.time()\n",
    "    while not abort.is_set():\n",
    "        await readout.wait()\n",
    "        await loop.run_in_executor(None,andor.wait_for_acquisition)\n",
    "        n_imgs=andor.get_total_number_images_acquired()\n",
    "#        print(f\"\\t{time.time()-start_time:.1f}s:# images={n_imgs:3d}\\n\")\n",
    "        if andor.last_ret_code==AndorCodes.DRV_NO_NEW_DATA:\n",
    "            abort.set()\n",
    "            andor.abort_acquisition()\n",
    "            print(f\"Acquisition ended without data {AndorCodes.values[andor.last_ret_code]}\\n\")\n",
    "            break\n",
    "#                 print(f\"# images acquired={andor.get_total_number_images_acquired()}\")\n",
    "        image_indices=andor.get_number_available_images()\n",
    "#                 opW.value+=\"# images available={1} ({0[0]}/{0[1]})\".format(image_indices,image_indices[1]-image_indices[0]+1)\n",
    "        ## \\/ TODO should be inside a coroutine or farmed out to a thread so the\n",
    "        ## \n",
    "        data,first,last=andor.get_images(image_indices[0],image_indices[1])\n",
    "        await queue.put([image_indices,time.time()-start_time,data])\n",
    "\n",
    "    await wait_for_ready()\n",
    "    await queue.put(None)\n",
    "#    print('<end>')\n",
    "\n",
    "\n",
    "async def consume(queue,imagequeue):\n",
    "    f=0\n",
    "    while True:\n",
    "        # wait for an item from the producer\n",
    "        item = await queue.get()\n",
    "        f+=1\n",
    "        if item is None:\n",
    "            # the producer emits None to indicate that it is done\n",
    "            break\n",
    "\n",
    "        # process the item\n",
    "        data,first,last=item\n",
    "        data=data.reshape([last-first+1]+list(region.shape))\n",
    "        print('image indices {0[0]}--{0[1]}'.format(indices))\n",
    "        imagequeue.put([data,f]) # now shove onto another queue\n",
    "    print('{end}')\n",
    "\n",
    "async def imagedisplay(queue):\n",
    "    with statusOpW:\n",
    "        starttime=time.time()\n",
    "        fig=pyplot.figure(figsize=(8,8))\n",
    "        ax=fig.subplots(1)\n",
    "        blank=numpy.empty(region.shape,'f')\n",
    "        img=ax.imshow(blank,vmin=-1,vmax=1)    \n",
    "        while True: # this never exits\n",
    "            item = await queue.get()\n",
    "            clear_output(wait=True)\n",
    "            # process the item\n",
    "            data,metadata=item\n",
    "            img.set_array(data[-1])\n",
    "            ax.set_title(f\"{metadata+data.shape[0]}:{time.time()-starttime:.2f}\")\n",
    "            display(fig)\n",
    "        print('{end}')\n",
    "\n",
    "display(panelVBW)\n",
    "loop = asyncio.get_event_loop()\n",
    "dataqueue = asyncio.Queue(loop=loop)\n",
    "imagequeue = asyncio.Queue(loop=loop)\n",
    "producer = produce(dataqueue)\n",
    "consumer = consume(dataqueue,imagequeue)\n",
    "imagedisplayer = imagedisplay(imagequeue)\n",
    "future_producer = asyncio.ensure_future(producer)\n",
    "future_consumer = asyncio.ensure_future(consumer)\n",
    "future_imagedisplayer = asyncio.ensure_future(imagedisplayer)"
   ]
  },
  {
   "cell_type": "code",
   "execution_count": null,
   "id": "23444c37",
   "metadata": {},
   "outputs": [],
   "source": [
    "status=andor.get_status()\n",
    "print(f\"Status is: {status}={AndorCodes.values[status]}\")"
   ]
  },
  {
   "cell_type": "markdown",
   "id": "64ccf1e3",
   "metadata": {},
   "source": [
    "---"
   ]
  },
  {
   "cell_type": "code",
   "execution_count": null,
   "id": "7c3ea3f1",
   "metadata": {},
   "outputs": [],
   "source": [
    "abort_and_clear()\n",
    "andor.shutdown()"
   ]
  },
  {
   "cell_type": "code",
   "execution_count": null,
   "id": "f83aed7a",
   "metadata": {},
   "outputs": [],
   "source": []
  }
 ],
 "metadata": {
  "kernelspec": {
   "display_name": "Python 3",
   "language": "python",
   "name": "python3"
  },
  "language_info": {
   "codemirror_mode": {
    "name": "ipython",
    "version": 3
   },
   "file_extension": ".py",
   "mimetype": "text/x-python",
   "name": "python",
   "nbconvert_exporter": "python",
   "pygments_lexer": "ipython3",
   "version": "3.6.8"
  }
 },
 "nbformat": 4,
 "nbformat_minor": 5
}
