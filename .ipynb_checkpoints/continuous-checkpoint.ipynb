{
 "cells": [
  {
   "cell_type": "code",
   "execution_count": null,
   "id": "a6f2fe71",
   "metadata": {},
   "outputs": [],
   "source": [
    "from andorCodes import AndorCodes\n",
    "import andor"
   ]
  },
  {
   "cell_type": "code",
   "execution_count": null,
   "id": "efdf9b15",
   "metadata": {},
   "outputs": [],
   "source": [
    "andor.initialize_ctypes()\n",
    "andor.initialize_sdk()\n",
    "print(\"Initialised SDK\")\n",
    "andor.choose_camera(0) # first\n",
    "print(\"Set current camera to be #0 (first)\")\n",
    "andor.free_internal_memory()\n",
    "ccd_height, ccd_width=andor.detector_size()\n",
    "print(f\"Size of detector is {ccd_height}x{ccd_width}\")"
   ]
  },
  {
   "cell_type": "code",
   "execution_count": null,
   "id": "9b752708",
   "metadata": {},
   "outputs": [],
   "source": [
    "## detector configuration parameters\n",
    "#\n",
    "hbinning,vbinning=(1,1) # horizontal then vertical\n",
    "region_lrbt=1,ccd_width,1,ccd_height\n",
    "region=andor.Region(hbinning,vbinning,region_lrbt[0],region_lrbt[1],region_lrbt[2],region_lrbt[3])\n",
    "exposure_time=1 # [s]"
   ]
  },
  {
   "cell_type": "code",
   "execution_count": null,
   "id": "85f2d778",
   "metadata": {},
   "outputs": [],
   "source": [
    "print(f\"Shutter {'is' if andor.get_shutter_info() else 'is not'} available\")\n",
    "ttl_high=True\n",
    "shutter_mode='Open'\n",
    "open_time,close_time=0,0\n",
    "andor.set_shutter(shutter_mode,ttl_high,open_time,close_time)\n",
    "print(f\"Shutter set to TTL o/p {'high' if ttl_high else 'low'}\")\n",
    "print(f\"Shutter mode is '{shutter_mode}'\")\n",
    "print(f\"Shutter open/close time is {open_time}/{close_time}ms\")\n",
    "trigger_mode='Internal'\n",
    "andor.set_trigger(trigger_mode)\n",
    "print(f\"Tigger mode is '{trigger_mode}'\")\n",
    "\n",
    "read_mode='Image'\n",
    "andor.set_read(read_mode)\n",
    "print(f\"Read mode is '{read_mode}'\")\n",
    "andor.set_exposure(exposure_time)\n",
    "print(f\"Exposure time is {1e3*exposure_time:.1f}ms\")\n",
    "andor.set_region(region)\n",
    "print(f\"Binning HxV is {hbinning}x{vbinning}\")\n",
    "print(\"ROI is (L,R,B,T)={0[0]}x{0[1]},{0[2]},{0[3]}\".format(region_lrbt))\n",
    "\n",
    "times=andor.get_timing()\n",
    "print(f\"Exposure time is {1e3*times[0]:.1f}ms and acquisition time is {1e3*times[1]:.1f}ms\")"
   ]
  },
  {
   "cell_type": "code",
   "execution_count": null,
   "id": "e51de6f6",
   "metadata": {},
   "outputs": [],
   "source": [
    "print(f\"Number images in SDK now={andor.get_total_number_images_acquired()}\")\n",
    "\n",
    "## start acq.\n",
    "#\n",
    "andor.start_acquisition()\n",
    "\n",
    "import ctypes\n",
    "def wait_for_acquisition():\n",
    "    acquiring=True\n",
    "    while acquiring:\n",
    "        print(\"Waiting for end of acquisition\")\n",
    "        andor.wait_for_acquisition()\n",
    "        if andor.last_ret_code==AndorCodes.DRV_NO_NEW_DATA:\n",
    "            andor.abort_acquisition()\n",
    "            print(f\"Acquisition ended without data {AndorCodes.values[andor.last_ret_code]}\")\n",
    "            acquiring=False\n",
    "        else:\n",
    "            acc,kin=andor.get_acquisition_progress()\n",
    "            if acc==0 and kin==0:\n",
    "                print(\"Acquisition end\")\n",
    "            stat=andor.get_status()\n",
    "            acquiring=(stat==AndorCodes.DRV_ACQUIRING)\n",
    "    print(f\"Acquisition completed\")\n",
    "\n",
    "wait_for_acquisition()\n",
    "stat=andor.get_status()\n",
    "print(f\"Status is {AndorCodes.values[stat]}\")\n",
    "print(f\"Number images in SDK now={andor.get_total_number_images_acquired()}\")"
   ]
  },
  {
   "cell_type": "code",
   "execution_count": null,
   "id": "ecdfaf89",
   "metadata": {},
   "outputs": [],
   "source": [
    "print(\"First/last image index={0[0]}/{0[1]}\".format(andor.get_number_available_images()))\n",
    "data=andor.get_acquired_data()\n",
    "print(f\"Got the acquired data, length={data.shape}\")"
   ]
  },
  {
   "cell_type": "code",
   "execution_count": null,
   "id": "489424e6",
   "metadata": {},
   "outputs": [],
   "source": [
    "%pylab inline\n",
    "fig1=pylab.figure(figsize=(8,8))\n",
    "sps1=fig1.subplots(1)\n",
    "sps1.imshow(data)"
   ]
  },
  {
   "cell_type": "markdown",
   "id": "7be596b0",
   "metadata": {},
   "source": [
    "Is this next call necessary the first time to get the data correctly off the camera head?"
   ]
  },
  {
   "cell_type": "code",
   "execution_count": null,
   "id": "efa3b2f4",
   "metadata": {},
   "outputs": [],
   "source": [
    "ret_code=andor.andor.SaveAsBmp(b\"./image.bmp\", b\"./GREY.PAL\", 0, 0)\n",
    "print(f\"Got {ret_code}/{AndorCodes.values[ret_code]}\")"
   ]
  },
  {
   "cell_type": "markdown",
   "id": "8b70719c",
   "metadata": {},
   "source": [
    "---"
   ]
  },
  {
   "cell_type": "code",
   "execution_count": null,
   "id": "23444c37",
   "metadata": {},
   "outputs": [],
   "source": [
    "status=andor.get_status()\n",
    "print(f\"Status is: {status}={AndorCodes.values[status]}\")"
   ]
  },
  {
   "cell_type": "markdown",
   "id": "64ccf1e3",
   "metadata": {},
   "source": [
    "---"
   ]
  },
  {
   "cell_type": "code",
   "execution_count": null,
   "id": "7c3ea3f1",
   "metadata": {},
   "outputs": [],
   "source": [
    "andor.shutdown()"
   ]
  },
  {
   "cell_type": "code",
   "execution_count": null,
   "id": "8dba3afd",
   "metadata": {},
   "outputs": [],
   "source": []
  }
 ],
 "metadata": {
  "kernelspec": {
   "display_name": "Python 3",
   "language": "python",
   "name": "python3"
  },
  "language_info": {
   "codemirror_mode": {
    "name": "ipython",
    "version": 3
   },
   "file_extension": ".py",
   "mimetype": "text/x-python",
   "name": "python",
   "nbconvert_exporter": "python",
   "pygments_lexer": "ipython3",
   "version": "3.6.8"
  }
 },
 "nbformat": 4,
 "nbformat_minor": 5
}
